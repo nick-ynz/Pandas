{
 "cells": [
  {
   "cell_type": "markdown",
   "metadata": {},
   "source": [
    "### hdf文件用key代表表的名字，一个hdf文件可包含多张表，类似excel中sheet"
   ]
  },
  {
   "cell_type": "code",
   "execution_count": 10,
   "metadata": {},
   "outputs": [
    {
     "name": "stdout",
     "output_type": "stream",
     "text": [
      "['sh600008.csv', '/Users/yinianzhang/Desktop/量化/sample/sh600008.csv']\n",
      "['sh600009.csv', '/Users/yinianzhang/Desktop/量化/sample/sh600009.csv']\n",
      "['sh600001.csv', '/Users/yinianzhang/Desktop/量化/sample/sh600001.csv']\n",
      "['sh600000.csv', '/Users/yinianzhang/Desktop/量化/sample/sh600000.csv']\n",
      "['sh600002.csv', '/Users/yinianzhang/Desktop/量化/sample/sh600002.csv']\n",
      "['sh600003.csv', '/Users/yinianzhang/Desktop/量化/sample/sh600003.csv']\n",
      "['sh600007.csv', '/Users/yinianzhang/Desktop/量化/sample/sh600007.csv']\n",
      "['sh600006.csv', '/Users/yinianzhang/Desktop/量化/sample/sh600006.csv']\n",
      "['sh600004.csv', '/Users/yinianzhang/Desktop/量化/sample/sh600004.csv']\n",
      "['sh600005.csv', '/Users/yinianzhang/Desktop/量化/sample/sh600005.csv']\n",
      "\n",
      "\n",
      "[['sh600008.csv', '/Users/yinianzhang/Desktop/量化/sample/sh600008.csv'], ['sh600009.csv', '/Users/yinianzhang/Desktop/量化/sample/sh600009.csv'], ['sh600001.csv', '/Users/yinianzhang/Desktop/量化/sample/sh600001.csv'], ['sh600000.csv', '/Users/yinianzhang/Desktop/量化/sample/sh600000.csv'], ['sh600002.csv', '/Users/yinianzhang/Desktop/量化/sample/sh600002.csv'], ['sh600003.csv', '/Users/yinianzhang/Desktop/量化/sample/sh600003.csv'], ['sh600007.csv', '/Users/yinianzhang/Desktop/量化/sample/sh600007.csv'], ['sh600006.csv', '/Users/yinianzhang/Desktop/量化/sample/sh600006.csv'], ['sh600004.csv', '/Users/yinianzhang/Desktop/量化/sample/sh600004.csv'], ['sh600005.csv', '/Users/yinianzhang/Desktop/量化/sample/sh600005.csv']]\n"
     ]
    }
   ],
   "source": [
    "import pandas as pd\n",
    "import os\n",
    "\n",
    "file_location = './sample'\n",
    "file_list = []\n",
    "\n",
    "for root, dirs ,files in os.walk(file_location):\n",
    "    for filename in files:\n",
    "        if filename.endswith('.csv'):\n",
    "            file_path = os.path.join(root, filename)\n",
    "            file_path = os.path.abspath(file_path)\n",
    "            file_list.append([filename,file_path])\n",
    "        \n",
    "for file in file_list:\n",
    "    print(file)\n",
    "\n",
    "print('\\n')\n",
    "print(file_list) #列表中的每个列表含有文件名和文件绝对路径（无关乎系统）"
   ]
  },
  {
   "cell_type": "markdown",
   "metadata": {},
   "source": [
    "### 创建空hdf文件"
   ]
  },
  {
   "cell_type": "code",
   "execution_count": 11,
   "metadata": {},
   "outputs": [],
   "source": [
    "h5_store = pd.HDFStore('sample_10.h5', mode='w')"
   ]
  },
  {
   "cell_type": "markdown",
   "metadata": {},
   "source": [
    "### 将csv写入hdf文件"
   ]
  },
  {
   "cell_type": "code",
   "execution_count": 12,
   "metadata": {},
   "outputs": [
    {
     "name": "stderr",
     "output_type": "stream",
     "text": [
      "/Users/yinianzhang/anaconda3/lib/python3.7/site-packages/IPython/core/interactiveshell.py:3296: PerformanceWarning: \n",
      "your performance may suffer as PyTables will pickle object types that it cannot\n",
      "map directly to c-types [inferred_type->mixed,key->block2_values] [items->['股票代码', '股票名称', '新浪行业', '新浪概念', '新浪地域', 'MA金叉死叉', 'MACD_金叉死叉', 'KDJ_金叉死叉']]\n",
      "\n",
      "  exec(code_obj, self.user_global_ns, self.user_ns)\n",
      "/Users/yinianzhang/anaconda3/lib/python3.7/site-packages/IPython/core/interactiveshell.py:3296: PerformanceWarning: \n",
      "your performance may suffer as PyTables will pickle object types that it cannot\n",
      "map directly to c-types [inferred_type->mixed,key->block2_values] [items->['股票代码', '股票名称', '新浪行业', 'KDJ_金叉死叉']]\n",
      "\n",
      "  exec(code_obj, self.user_global_ns, self.user_ns)\n",
      "/Users/yinianzhang/anaconda3/lib/python3.7/site-packages/IPython/core/interactiveshell.py:3296: PerformanceWarning: \n",
      "your performance may suffer as PyTables will pickle object types that it cannot\n",
      "map directly to c-types [inferred_type->mixed,key->block2_values] [items->['股票代码', '股票名称', '新浪行业', '新浪概念', 'MA金叉死叉', 'MACD_金叉死叉', 'KDJ_金叉死叉']]\n",
      "\n",
      "  exec(code_obj, self.user_global_ns, self.user_ns)\n"
     ]
    }
   ],
   "source": [
    "for filename, file_path in sorted(file_list):\n",
    "    stock_code = filename.split('.')[0] # 通过.分割字符串，然后取第一个，也即sh600000等\n",
    "    df = pd.read_csv(file_path, encoding='gbk', parse_dates=['交易日期']) # 读csv文件\n",
    "    h5_store[stock_code] = df.iloc[:100] # 将csv中前100行数据保存在key=stock_code的表中\n",
    "\n",
    "h5_store.close() # 关闭，避免warning"
   ]
  },
  {
   "cell_type": "markdown",
   "metadata": {},
   "source": [
    "## 使用hdf文件\n",
    "\n",
    "   hdf文件无需encoding，更加方便\n",
    "\n",
    "### 读取所有key"
   ]
  },
  {
   "cell_type": "code",
   "execution_count": 16,
   "metadata": {},
   "outputs": [
    {
     "name": "stdout",
     "output_type": "stream",
     "text": [
      "['/sh600000', '/sh600001', '/sh600002', '/sh600003', '/sh600004', '/sh600005', '/sh600006', '/sh600007', '/sh600008', '/sh600009']\n"
     ]
    }
   ],
   "source": [
    "h5_store = pd.HDFStore('sample_10.h5', mode='r')\n",
    "\n",
    "print(h5_store.keys())"
   ]
  },
  {
   "cell_type": "markdown",
   "metadata": {},
   "source": [
    "### 读取表"
   ]
  },
  {
   "cell_type": "code",
   "execution_count": 18,
   "metadata": {},
   "outputs": [
    {
     "name": "stdout",
     "output_type": "stream",
     "text": [
      "       股票代码  股票名称       交易日期  新浪行业                               新浪概念 新浪地域  \\\n",
      "0  sh600000  浦发银行 2019-05-17  金融行业  融资融券；国企改革；保险重仓；信托重仓；上海本地；超大盘；基金重仓  上海市   \n",
      "1  sh600000  浦发银行 2019-05-16  金融行业  融资融券；国企改革；保险重仓；信托重仓；上海本地；超大盘；基金重仓  上海市   \n",
      "2  sh600000  浦发银行 2019-05-15  金融行业  融资融券；国企改革；保险重仓；信托重仓；上海本地；超大盘；基金重仓  上海市   \n",
      "3  sh600000  浦发银行 2019-05-14  金融行业  融资融券；国企改革；保险重仓；信托重仓；上海本地；超大盘；基金重仓  上海市   \n",
      "4  sh600000  浦发银行 2019-05-13  金融行业  融资融券；国企改革；保险重仓；信托重仓；上海本地；超大盘；基金重仓  上海市   \n",
      "\n",
      "     开盘价    最高价    最低价    收盘价  ...    布林线中轨      布林线上轨      布林线下轨        psy  \\\n",
      "0  11.32  11.35  11.20  11.24  ...  11.5905  12.230989  10.950011  33.333333   \n",
      "1  11.28  11.36  11.22  11.30  ...  11.5990  12.226649  10.971351  33.333333   \n",
      "2  11.28  11.42  11.23  11.32  ...  11.6075  12.223572  10.991428  33.333333   \n",
      "3  11.18  11.44  11.17  11.21  ...  11.6205  12.210938  11.030062  25.000000   \n",
      "4  11.20  11.40  11.15  11.31  ...  11.6290  12.203718  11.054282  25.000000   \n",
      "\n",
      "       psyma       rsi1       rsi2       rsi3        振幅        量比  \n",
      "0  29.166667  38.521666  42.537214  47.010741  0.013274  1.015224  \n",
      "1  27.777778  42.005244  44.192314  47.932719  0.012367  0.856667  \n",
      "2  26.388889  43.087601  44.724039  48.234909  0.016949  0.750346  \n",
      "3  25.000000  35.466187  41.154368  46.455643  0.023873  0.826693  \n",
      "4  26.388889  39.470493  43.495096  47.889712  0.022085  0.678304  \n",
      "\n",
      "[5 rows x 48 columns]\n",
      "\n",
      "\n",
      "       股票代码  股票名称       交易日期  新浪行业                               新浪概念 新浪地域  \\\n",
      "0  sh600000  浦发银行 2019-05-17  金融行业  融资融券；国企改革；保险重仓；信托重仓；上海本地；超大盘；基金重仓  上海市   \n",
      "1  sh600000  浦发银行 2019-05-16  金融行业  融资融券；国企改革；保险重仓；信托重仓；上海本地；超大盘；基金重仓  上海市   \n",
      "2  sh600000  浦发银行 2019-05-15  金融行业  融资融券；国企改革；保险重仓；信托重仓；上海本地；超大盘；基金重仓  上海市   \n",
      "3  sh600000  浦发银行 2019-05-14  金融行业  融资融券；国企改革；保险重仓；信托重仓；上海本地；超大盘；基金重仓  上海市   \n",
      "4  sh600000  浦发银行 2019-05-13  金融行业  融资融券；国企改革；保险重仓；信托重仓；上海本地；超大盘；基金重仓  上海市   \n",
      "\n",
      "     开盘价    最高价    最低价    收盘价  ...    布林线中轨      布林线上轨      布林线下轨        psy  \\\n",
      "0  11.32  11.35  11.20  11.24  ...  11.5905  12.230989  10.950011  33.333333   \n",
      "1  11.28  11.36  11.22  11.30  ...  11.5990  12.226649  10.971351  33.333333   \n",
      "2  11.28  11.42  11.23  11.32  ...  11.6075  12.223572  10.991428  33.333333   \n",
      "3  11.18  11.44  11.17  11.21  ...  11.6205  12.210938  11.030062  25.000000   \n",
      "4  11.20  11.40  11.15  11.31  ...  11.6290  12.203718  11.054282  25.000000   \n",
      "\n",
      "       psyma       rsi1       rsi2       rsi3        振幅        量比  \n",
      "0  29.166667  38.521666  42.537214  47.010741  0.013274  1.015224  \n",
      "1  27.777778  42.005244  44.192314  47.932719  0.012367  0.856667  \n",
      "2  26.388889  43.087601  44.724039  48.234909  0.016949  0.750346  \n",
      "3  25.000000  35.466187  41.154368  46.455643  0.023873  0.826693  \n",
      "4  26.388889  39.470493  43.495096  47.889712  0.022085  0.678304  \n",
      "\n",
      "[5 rows x 48 columns]\n"
     ]
    }
   ],
   "source": [
    "print(h5_store.get('sh600000').head())\n",
    "print('\\n')\n",
    "print(h5_store['sh600000'].head())"
   ]
  },
  {
   "cell_type": "code",
   "execution_count": 19,
   "metadata": {},
   "outputs": [],
   "source": [
    "h5_store.close()"
   ]
  }
 ],
 "metadata": {
  "kernelspec": {
   "display_name": "Python 3",
   "language": "python",
   "name": "python3"
  },
  "language_info": {
   "codemirror_mode": {
    "name": "ipython",
    "version": 3
   },
   "file_extension": ".py",
   "mimetype": "text/x-python",
   "name": "python",
   "nbconvert_exporter": "python",
   "pygments_lexer": "ipython3",
   "version": "3.7.3"
  }
 },
 "nbformat": 4,
 "nbformat_minor": 2
}
